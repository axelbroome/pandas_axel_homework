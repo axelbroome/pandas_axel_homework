{
 "cells": [
  {
   "cell_type": "markdown",
   "metadata": {},
   "source": [
    "### Note\n",
    "* Instructions have been included for each segment. You do not have to follow them exactly, but they are included to help you think through the steps."
   ]
  },
  {
   "cell_type": "code",
   "execution_count": 1,
   "metadata": {},
   "outputs": [
    {
     "data": {
      "text/html": [
       "<div>\n",
       "<style scoped>\n",
       "    .dataframe tbody tr th:only-of-type {\n",
       "        vertical-align: middle;\n",
       "    }\n",
       "\n",
       "    .dataframe tbody tr th {\n",
       "        vertical-align: top;\n",
       "    }\n",
       "\n",
       "    .dataframe thead th {\n",
       "        text-align: right;\n",
       "    }\n",
       "</style>\n",
       "<table border=\"1\" class=\"dataframe\">\n",
       "  <thead>\n",
       "    <tr style=\"text-align: right;\">\n",
       "      <th></th>\n",
       "      <th>Purchase ID</th>\n",
       "      <th>SN</th>\n",
       "      <th>Age</th>\n",
       "      <th>Gender</th>\n",
       "      <th>Item ID</th>\n",
       "      <th>Item Name</th>\n",
       "      <th>Price</th>\n",
       "    </tr>\n",
       "  </thead>\n",
       "  <tbody>\n",
       "    <tr>\n",
       "      <td>0</td>\n",
       "      <td>0</td>\n",
       "      <td>Lisim78</td>\n",
       "      <td>20</td>\n",
       "      <td>Male</td>\n",
       "      <td>108</td>\n",
       "      <td>Extraction, Quickblade Of Trembling Hands</td>\n",
       "      <td>3.53</td>\n",
       "    </tr>\n",
       "    <tr>\n",
       "      <td>1</td>\n",
       "      <td>1</td>\n",
       "      <td>Lisovynya38</td>\n",
       "      <td>40</td>\n",
       "      <td>Male</td>\n",
       "      <td>143</td>\n",
       "      <td>Frenzied Scimitar</td>\n",
       "      <td>1.56</td>\n",
       "    </tr>\n",
       "    <tr>\n",
       "      <td>2</td>\n",
       "      <td>2</td>\n",
       "      <td>Ithergue48</td>\n",
       "      <td>24</td>\n",
       "      <td>Male</td>\n",
       "      <td>92</td>\n",
       "      <td>Final Critic</td>\n",
       "      <td>4.88</td>\n",
       "    </tr>\n",
       "    <tr>\n",
       "      <td>3</td>\n",
       "      <td>3</td>\n",
       "      <td>Chamassasya86</td>\n",
       "      <td>24</td>\n",
       "      <td>Male</td>\n",
       "      <td>100</td>\n",
       "      <td>Blindscythe</td>\n",
       "      <td>3.27</td>\n",
       "    </tr>\n",
       "    <tr>\n",
       "      <td>4</td>\n",
       "      <td>4</td>\n",
       "      <td>Iskosia90</td>\n",
       "      <td>23</td>\n",
       "      <td>Male</td>\n",
       "      <td>131</td>\n",
       "      <td>Fury</td>\n",
       "      <td>1.44</td>\n",
       "    </tr>\n",
       "  </tbody>\n",
       "</table>\n",
       "</div>"
      ],
      "text/plain": [
       "   Purchase ID             SN  Age Gender  Item ID  \\\n",
       "0            0        Lisim78   20   Male      108   \n",
       "1            1    Lisovynya38   40   Male      143   \n",
       "2            2     Ithergue48   24   Male       92   \n",
       "3            3  Chamassasya86   24   Male      100   \n",
       "4            4      Iskosia90   23   Male      131   \n",
       "\n",
       "                                   Item Name  Price  \n",
       "0  Extraction, Quickblade Of Trembling Hands   3.53  \n",
       "1                          Frenzied Scimitar   1.56  \n",
       "2                               Final Critic   4.88  \n",
       "3                                Blindscythe   3.27  \n",
       "4                                       Fury   1.44  "
      ]
     },
     "execution_count": 1,
     "metadata": {},
     "output_type": "execute_result"
    }
   ],
   "source": [
    "# Dependencies and Setup\n",
    "import pandas as pd\n",
    "\n",
    "# File to Load (Remember to Change These)\n",
    "file_to_load = \"Resources/purchase_data.csv\"\n",
    "\n",
    "# Read Purchasing File and store into Pandas data frame\n",
    "purchase_data = pd.read_csv(file_to_load)\n",
    "\n",
    "purchase_data.head()"
   ]
  },
  {
   "cell_type": "markdown",
   "metadata": {},
   "source": [
    "## Player Count"
   ]
  },
  {
   "cell_type": "markdown",
   "metadata": {},
   "source": [
    "* Display the total number of players\n"
   ]
  },
  {
   "cell_type": "code",
   "execution_count": 2,
   "metadata": {},
   "outputs": [
    {
     "data": {
      "text/plain": [
       "576"
      ]
     },
     "execution_count": 2,
     "metadata": {},
     "output_type": "execute_result"
    }
   ],
   "source": [
    "total_players = len(purchase_data[\"SN\"].unique())\n",
    "total_players"
   ]
  },
  {
   "cell_type": "markdown",
   "metadata": {},
   "source": [
    "## Purchasing Analysis (Total)"
   ]
  },
  {
   "cell_type": "markdown",
   "metadata": {},
   "source": [
    "* Run basic calculations to obtain number of unique items, average price, etc.\n",
    "\n",
    "\n",
    "* Create a summary data frame to hold the results\n",
    "\n",
    "\n",
    "* Optional: give the displayed data cleaner formatting\n",
    "\n",
    "\n",
    "* Display the summary data frame\n"
   ]
  },
  {
   "cell_type": "code",
   "execution_count": 3,
   "metadata": {
    "scrolled": true
   },
   "outputs": [
    {
     "data": {
      "text/html": [
       "<div>\n",
       "<style scoped>\n",
       "    .dataframe tbody tr th:only-of-type {\n",
       "        vertical-align: middle;\n",
       "    }\n",
       "\n",
       "    .dataframe tbody tr th {\n",
       "        vertical-align: top;\n",
       "    }\n",
       "\n",
       "    .dataframe thead th {\n",
       "        text-align: right;\n",
       "    }\n",
       "</style>\n",
       "<table border=\"1\" class=\"dataframe\">\n",
       "  <thead>\n",
       "    <tr style=\"text-align: right;\">\n",
       "      <th></th>\n",
       "      <th>Average Price</th>\n",
       "      <th>Average Age</th>\n",
       "      <th>Unique Items</th>\n",
       "    </tr>\n",
       "  </thead>\n",
       "  <tbody>\n",
       "    <tr>\n",
       "      <td>0</td>\n",
       "      <td>3.050987</td>\n",
       "      <td>22.714103</td>\n",
       "      <td>183</td>\n",
       "    </tr>\n",
       "  </tbody>\n",
       "</table>\n",
       "</div>"
      ],
      "text/plain": [
       "   Average Price  Average Age  Unique Items\n",
       "0       3.050987    22.714103           183"
      ]
     },
     "execution_count": 3,
     "metadata": {},
     "output_type": "execute_result"
    }
   ],
   "source": [
    "unique_items = len(purchase_data[\"Item ID\"].unique())\n",
    "average_price = purchase_data[\"Price\"].mean()\n",
    "average_age = purchase_data[\"Age\"].mean()\n",
    "Purchase_DF = pd.DataFrame ({\n",
    "    \"Average Price\": [average_price],\n",
    "    \"Average Age\" : [average_age],\n",
    "    \"Unique Items\" : [unique_items]\n",
    "})\n",
    "\n",
    "Purchase_DF\n"
   ]
  },
  {
   "cell_type": "markdown",
   "metadata": {},
   "source": [
    "## Gender Demographics"
   ]
  },
  {
   "cell_type": "markdown",
   "metadata": {},
   "source": [
    "* Percentage and Count of Male Players\n",
    "\n",
    "\n",
    "* Percentage and Count of Female Players\n",
    "\n",
    "\n",
    "* Percentage and Count of Other / Non-Disclosed\n",
    "\n",
    "\n"
   ]
  },
  {
   "cell_type": "code",
   "execution_count": 28,
   "metadata": {},
   "outputs": [
    {
     "data": {
      "text/html": [
       "<style  type=\"text/css\" >\n",
       "</style><table id=\"T_d4984d4a_2328_11ea_96e1_a683e725983b\" ><thead>    <tr>        <th class=\"blank level0\" ></th>        <th class=\"col_heading level0 col0\" >Percentage of Players</th>        <th class=\"col_heading level0 col1\" >Total Count</th>    </tr>    <tr>        <th class=\"index_name level0\" >Gender</th>        <th class=\"blank\" ></th>        <th class=\"blank\" ></th>    </tr></thead><tbody>\n",
       "                <tr>\n",
       "                        <th id=\"T_d4984d4a_2328_11ea_96e1_a683e725983blevel0_row0\" class=\"row_heading level0 row0\" >Male</th>\n",
       "                        <td id=\"T_d4984d4a_2328_11ea_96e1_a683e725983brow0_col0\" class=\"data row0 col0\" >84.03</td>\n",
       "                        <td id=\"T_d4984d4a_2328_11ea_96e1_a683e725983brow0_col1\" class=\"data row0 col1\" >484</td>\n",
       "            </tr>\n",
       "            <tr>\n",
       "                        <th id=\"T_d4984d4a_2328_11ea_96e1_a683e725983blevel0_row1\" class=\"row_heading level0 row1\" >Female</th>\n",
       "                        <td id=\"T_d4984d4a_2328_11ea_96e1_a683e725983brow1_col0\" class=\"data row1 col0\" >14.06</td>\n",
       "                        <td id=\"T_d4984d4a_2328_11ea_96e1_a683e725983brow1_col1\" class=\"data row1 col1\" >81</td>\n",
       "            </tr>\n",
       "            <tr>\n",
       "                        <th id=\"T_d4984d4a_2328_11ea_96e1_a683e725983blevel0_row2\" class=\"row_heading level0 row2\" >Other / Non-Disclosed</th>\n",
       "                        <td id=\"T_d4984d4a_2328_11ea_96e1_a683e725983brow2_col0\" class=\"data row2 col0\" >1.91</td>\n",
       "                        <td id=\"T_d4984d4a_2328_11ea_96e1_a683e725983brow2_col1\" class=\"data row2 col1\" >11</td>\n",
       "            </tr>\n",
       "    </tbody></table>"
      ],
      "text/plain": [
       "<pandas.io.formats.style.Styler at 0x123d56b50>"
      ]
     },
     "execution_count": 28,
     "metadata": {},
     "output_type": "execute_result"
    }
   ],
   "source": [
    "\n",
    "\n",
    "player_genders = purchase_data.groupby(\"Gender\")\n",
    "\n",
    "\n",
    "\n",
    "gender_counts = player_genders.nunique()[\"SN\"]\n",
    "gender_counts\n",
    "\n",
    "gender_percent = gender_counts / total_players * 100\n",
    "gender_percent\n",
    "\n",
    "\n",
    "gender_data_df = pd.DataFrame({\"Percentage of Players\": gender_percent, \"Total Count\": gender_counts})\n",
    "gender_data_df\n",
    "\n",
    "\n",
    "\n",
    "gender_data_df.sort_values([\"Total Count\"], ascending = False).style.format({\"Percentage of Players\":\"{:.2f}\"})"
   ]
  },
  {
   "cell_type": "markdown",
   "metadata": {},
   "source": [
    "\n",
    "## Purchasing Analysis (Gender)"
   ]
  },
  {
   "cell_type": "markdown",
   "metadata": {},
   "source": [
    "* Run basic calculations to obtain purchase count, avg. purchase price, avg. purchase total per person etc. by gender\n",
    "\n",
    "\n",
    "\n",
    "\n",
    "* Create a summary data frame to hold the results\n",
    "\n",
    "\n",
    "* Optional: give the displayed data cleaner formatting\n",
    "\n",
    "\n",
    "* Display the summary data frame"
   ]
  },
  {
   "cell_type": "code",
   "execution_count": 30,
   "metadata": {},
   "outputs": [
    {
     "data": {
      "text/html": [
       "<style  type=\"text/css\" >\n",
       "</style><table id=\"T_f225b456_2328_11ea_96e1_a683e725983b\" ><thead>    <tr>        <th class=\"blank level0\" ></th>        <th class=\"col_heading level0 col0\" >Purchase Count</th>        <th class=\"col_heading level0 col1\" >Average Purchase Price</th>        <th class=\"col_heading level0 col2\" >Total Spent by Gender</th>        <th class=\"col_heading level0 col3\" >Average Per Person</th>    </tr>    <tr>        <th class=\"index_name level0\" >Gender</th>        <th class=\"blank\" ></th>        <th class=\"blank\" ></th>        <th class=\"blank\" ></th>        <th class=\"blank\" ></th>    </tr></thead><tbody>\n",
       "                <tr>\n",
       "                        <th id=\"T_f225b456_2328_11ea_96e1_a683e725983blevel0_row0\" class=\"row_heading level0 row0\" >Female</th>\n",
       "                        <td id=\"T_f225b456_2328_11ea_96e1_a683e725983brow0_col0\" class=\"data row0 col0\" >113</td>\n",
       "                        <td id=\"T_f225b456_2328_11ea_96e1_a683e725983brow0_col1\" class=\"data row0 col1\" >$3.20</td>\n",
       "                        <td id=\"T_f225b456_2328_11ea_96e1_a683e725983brow0_col2\" class=\"data row0 col2\" >$361.94</td>\n",
       "                        <td id=\"T_f225b456_2328_11ea_96e1_a683e725983brow0_col3\" class=\"data row0 col3\" >$4.47</td>\n",
       "            </tr>\n",
       "            <tr>\n",
       "                        <th id=\"T_f225b456_2328_11ea_96e1_a683e725983blevel0_row1\" class=\"row_heading level0 row1\" >Male</th>\n",
       "                        <td id=\"T_f225b456_2328_11ea_96e1_a683e725983brow1_col0\" class=\"data row1 col0\" >652</td>\n",
       "                        <td id=\"T_f225b456_2328_11ea_96e1_a683e725983brow1_col1\" class=\"data row1 col1\" >$3.02</td>\n",
       "                        <td id=\"T_f225b456_2328_11ea_96e1_a683e725983brow1_col2\" class=\"data row1 col2\" >$1,967.64</td>\n",
       "                        <td id=\"T_f225b456_2328_11ea_96e1_a683e725983brow1_col3\" class=\"data row1 col3\" >$4.07</td>\n",
       "            </tr>\n",
       "            <tr>\n",
       "                        <th id=\"T_f225b456_2328_11ea_96e1_a683e725983blevel0_row2\" class=\"row_heading level0 row2\" >Other / Non-Disclosed</th>\n",
       "                        <td id=\"T_f225b456_2328_11ea_96e1_a683e725983brow2_col0\" class=\"data row2 col0\" >15</td>\n",
       "                        <td id=\"T_f225b456_2328_11ea_96e1_a683e725983brow2_col1\" class=\"data row2 col1\" >$3.35</td>\n",
       "                        <td id=\"T_f225b456_2328_11ea_96e1_a683e725983brow2_col2\" class=\"data row2 col2\" >$50.19</td>\n",
       "                        <td id=\"T_f225b456_2328_11ea_96e1_a683e725983brow2_col3\" class=\"data row2 col3\" >$4.56</td>\n",
       "            </tr>\n",
       "    </tbody></table>"
      ],
      "text/plain": [
       "<pandas.io.formats.style.Styler at 0x123c35890>"
      ]
     },
     "execution_count": 30,
     "metadata": {},
     "output_type": "execute_result"
    }
   ],
   "source": [
    "\n",
    "# Count the total purchases by gender \n",
    "purchase_count = player_genders[\"Purchase ID\"].count()\n",
    "\n",
    "purchases_by_gender = player_genders[\"Item ID\"].count()\n",
    "purchase_price_gender = player_genders[\"Price\"].mean()\n",
    "total_purchases_gender = player_genders[\"Price\"].sum()\n",
    "avg_purchase_per_person = total_purchases_gender/gender_counts\n",
    "spending_gender_df = pd.DataFrame({\n",
    "    \"Purchase Count\": purchases_by_gender,\n",
    "    \"Average Purchase Price\": purchase_price_gender,\n",
    "    \"Total Spent by Gender\": total_purchases_gender,\n",
    "    \"Average Per Person\": avg_purchase_per_person\n",
    "\n",
    "})\n",
    "\n",
    "spending_gender_df\n",
    "spending_gender_df.style.format({\"Average Purchase Price\":\"${:,.2f}\",\n",
    "                                  \"Total Spent by Gender\":\"${:,.2f}\",\n",
    "                                  \"Average Per Person\":\"${:,.2f}\"})\n",
    "    \n"
   ]
  },
  {
   "cell_type": "markdown",
   "metadata": {},
   "source": [
    "## Age Demographics"
   ]
  },
  {
   "cell_type": "markdown",
   "metadata": {},
   "source": [
    "* Establish bins for ages\n",
    "\n",
    "\n",
    "* Categorize the existing players using the age bins. Hint: use pd.cut()\n",
    "\n",
    "\n",
    "* Calculate the numbers and percentages by age group\n",
    "\n",
    "\n",
    "* Create a summary data frame to hold the results\n",
    "\n",
    "\n",
    "* Optional: round the percentage column to two decimal points\n",
    "\n",
    "\n",
    "* Display Age Demographics Table\n"
   ]
  },
  {
   "cell_type": "code",
   "execution_count": 9,
   "metadata": {},
   "outputs": [
    {
     "data": {
      "text/html": [
       "<style  type=\"text/css\" >\n",
       "</style><table id=\"T_38a05ac8_2327_11ea_96e1_a683e725983b\" ><thead>    <tr>        <th class=\"blank level0\" ></th>        <th class=\"col_heading level0 col0\" >Percentage of Players</th>        <th class=\"col_heading level0 col1\" >Total Count</th>    </tr>    <tr>        <th class=\"index_name level0\" >Age Group</th>        <th class=\"blank\" ></th>        <th class=\"blank\" ></th>    </tr></thead><tbody>\n",
       "                <tr>\n",
       "                        <th id=\"T_38a05ac8_2327_11ea_96e1_a683e725983blevel0_row0\" class=\"row_heading level0 row0\" ><10</th>\n",
       "                        <td id=\"T_38a05ac8_2327_11ea_96e1_a683e725983brow0_col0\" class=\"data row0 col0\" >4.17</td>\n",
       "                        <td id=\"T_38a05ac8_2327_11ea_96e1_a683e725983brow0_col1\" class=\"data row0 col1\" >24</td>\n",
       "            </tr>\n",
       "            <tr>\n",
       "                        <th id=\"T_38a05ac8_2327_11ea_96e1_a683e725983blevel0_row1\" class=\"row_heading level0 row1\" >10-14</th>\n",
       "                        <td id=\"T_38a05ac8_2327_11ea_96e1_a683e725983brow1_col0\" class=\"data row1 col0\" >7.12</td>\n",
       "                        <td id=\"T_38a05ac8_2327_11ea_96e1_a683e725983brow1_col1\" class=\"data row1 col1\" >41</td>\n",
       "            </tr>\n",
       "            <tr>\n",
       "                        <th id=\"T_38a05ac8_2327_11ea_96e1_a683e725983blevel0_row2\" class=\"row_heading level0 row2\" >15-19</th>\n",
       "                        <td id=\"T_38a05ac8_2327_11ea_96e1_a683e725983brow2_col0\" class=\"data row2 col0\" >26.04</td>\n",
       "                        <td id=\"T_38a05ac8_2327_11ea_96e1_a683e725983brow2_col1\" class=\"data row2 col1\" >150</td>\n",
       "            </tr>\n",
       "            <tr>\n",
       "                        <th id=\"T_38a05ac8_2327_11ea_96e1_a683e725983blevel0_row3\" class=\"row_heading level0 row3\" >20-24</th>\n",
       "                        <td id=\"T_38a05ac8_2327_11ea_96e1_a683e725983brow3_col0\" class=\"data row3 col0\" >40.28</td>\n",
       "                        <td id=\"T_38a05ac8_2327_11ea_96e1_a683e725983brow3_col1\" class=\"data row3 col1\" >232</td>\n",
       "            </tr>\n",
       "            <tr>\n",
       "                        <th id=\"T_38a05ac8_2327_11ea_96e1_a683e725983blevel0_row4\" class=\"row_heading level0 row4\" >25-29</th>\n",
       "                        <td id=\"T_38a05ac8_2327_11ea_96e1_a683e725983brow4_col0\" class=\"data row4 col0\" >10.24</td>\n",
       "                        <td id=\"T_38a05ac8_2327_11ea_96e1_a683e725983brow4_col1\" class=\"data row4 col1\" >59</td>\n",
       "            </tr>\n",
       "            <tr>\n",
       "                        <th id=\"T_38a05ac8_2327_11ea_96e1_a683e725983blevel0_row5\" class=\"row_heading level0 row5\" >30-34</th>\n",
       "                        <td id=\"T_38a05ac8_2327_11ea_96e1_a683e725983brow5_col0\" class=\"data row5 col0\" >6.42</td>\n",
       "                        <td id=\"T_38a05ac8_2327_11ea_96e1_a683e725983brow5_col1\" class=\"data row5 col1\" >37</td>\n",
       "            </tr>\n",
       "            <tr>\n",
       "                        <th id=\"T_38a05ac8_2327_11ea_96e1_a683e725983blevel0_row6\" class=\"row_heading level0 row6\" >35-39</th>\n",
       "                        <td id=\"T_38a05ac8_2327_11ea_96e1_a683e725983brow6_col0\" class=\"data row6 col0\" >4.51</td>\n",
       "                        <td id=\"T_38a05ac8_2327_11ea_96e1_a683e725983brow6_col1\" class=\"data row6 col1\" >26</td>\n",
       "            </tr>\n",
       "            <tr>\n",
       "                        <th id=\"T_38a05ac8_2327_11ea_96e1_a683e725983blevel0_row7\" class=\"row_heading level0 row7\" >40+</th>\n",
       "                        <td id=\"T_38a05ac8_2327_11ea_96e1_a683e725983brow7_col0\" class=\"data row7 col0\" >1.22</td>\n",
       "                        <td id=\"T_38a05ac8_2327_11ea_96e1_a683e725983brow7_col1\" class=\"data row7 col1\" >7</td>\n",
       "            </tr>\n",
       "    </tbody></table>"
      ],
      "text/plain": [
       "<pandas.io.formats.style.Styler at 0x123d81190>"
      ]
     },
     "execution_count": 9,
     "metadata": {},
     "output_type": "execute_result"
    }
   ],
   "source": [
    "bins = [0,10,15,20,25,30,35,40,100]\n",
    "age_categories = [\"<10\",\"10-14\",\"15-19\",\"20-24\",\"25-29\",\"30-34\",\"35-39\",\"40+\"]\n",
    "\n",
    "purchase_data[\"Age Group\"] = pd.cut(purchase_data[\"Age\"], bins, labels=age_categories)\n",
    "\n",
    "\n",
    "age_group_data = purchase_data.groupby(\"Age Group\")\n",
    "\n",
    "\n",
    "total_count_age = age_group_data[\"SN\"].nunique()\n",
    "\n",
    "\n",
    "percentage_by_age = (total_count_age/total_players) * 100\n",
    "\n",
    "\n",
    "age_demographics = pd.DataFrame({\"Percentage of Players\": percentage_by_age, \"Total Count\": total_count_age})\n",
    "\n",
    "\n",
    "\n",
    "age_demographics.style.format({\"Percentage of Players\":\"{:,.2f}\"})\n"
   ]
  },
  {
   "cell_type": "markdown",
   "metadata": {},
   "source": [
    "## Purchasing Analysis (Age)"
   ]
  },
  {
   "cell_type": "markdown",
   "metadata": {},
   "source": [
    "* Bin the purchase_data data frame by age\n",
    "\n",
    "\n",
    "* Run basic calculations to obtain purchase count, avg. purchase price, avg. purchase total per person etc. in the table below\n",
    "\n",
    "\n",
    "* Create a summary data frame to hold the results\n",
    "\n",
    "\n",
    "* Optional: give the displayed data cleaner formatting\n",
    "\n",
    "\n",
    "* Display the summary data frame"
   ]
  },
  {
   "cell_type": "code",
   "execution_count": 10,
   "metadata": {},
   "outputs": [
    {
     "data": {
      "text/html": [
       "<style  type=\"text/css\" >\n",
       "</style><table id=\"T_3c09c654_2327_11ea_96e1_a683e725983b\" ><thead>    <tr>        <th class=\"blank level0\" ></th>        <th class=\"col_heading level0 col0\" >Purchase Count</th>        <th class=\"col_heading level0 col1\" >Average Purchase Price</th>        <th class=\"col_heading level0 col2\" >Total Spent by Age Group</th>        <th class=\"col_heading level0 col3\" >Per Person Spending</th>    </tr>    <tr>        <th class=\"index_name level0\" >Age Group</th>        <th class=\"blank\" ></th>        <th class=\"blank\" ></th>        <th class=\"blank\" ></th>        <th class=\"blank\" ></th>    </tr></thead><tbody>\n",
       "                <tr>\n",
       "                        <th id=\"T_3c09c654_2327_11ea_96e1_a683e725983blevel0_row0\" class=\"row_heading level0 row0\" ><10</th>\n",
       "                        <td id=\"T_3c09c654_2327_11ea_96e1_a683e725983brow0_col0\" class=\"data row0 col0\" >32</td>\n",
       "                        <td id=\"T_3c09c654_2327_11ea_96e1_a683e725983brow0_col1\" class=\"data row0 col1\" >$3.40</td>\n",
       "                        <td id=\"T_3c09c654_2327_11ea_96e1_a683e725983brow0_col2\" class=\"data row0 col2\" >$108.96</td>\n",
       "                        <td id=\"T_3c09c654_2327_11ea_96e1_a683e725983brow0_col3\" class=\"data row0 col3\" >$4.54</td>\n",
       "            </tr>\n",
       "            <tr>\n",
       "                        <th id=\"T_3c09c654_2327_11ea_96e1_a683e725983blevel0_row1\" class=\"row_heading level0 row1\" >10-14</th>\n",
       "                        <td id=\"T_3c09c654_2327_11ea_96e1_a683e725983brow1_col0\" class=\"data row1 col0\" >54</td>\n",
       "                        <td id=\"T_3c09c654_2327_11ea_96e1_a683e725983brow1_col1\" class=\"data row1 col1\" >$2.90</td>\n",
       "                        <td id=\"T_3c09c654_2327_11ea_96e1_a683e725983brow1_col2\" class=\"data row1 col2\" >$156.60</td>\n",
       "                        <td id=\"T_3c09c654_2327_11ea_96e1_a683e725983brow1_col3\" class=\"data row1 col3\" >$3.82</td>\n",
       "            </tr>\n",
       "            <tr>\n",
       "                        <th id=\"T_3c09c654_2327_11ea_96e1_a683e725983blevel0_row2\" class=\"row_heading level0 row2\" >15-19</th>\n",
       "                        <td id=\"T_3c09c654_2327_11ea_96e1_a683e725983brow2_col0\" class=\"data row2 col0\" >200</td>\n",
       "                        <td id=\"T_3c09c654_2327_11ea_96e1_a683e725983brow2_col1\" class=\"data row2 col1\" >$3.11</td>\n",
       "                        <td id=\"T_3c09c654_2327_11ea_96e1_a683e725983brow2_col2\" class=\"data row2 col2\" >$621.56</td>\n",
       "                        <td id=\"T_3c09c654_2327_11ea_96e1_a683e725983brow2_col3\" class=\"data row2 col3\" >$4.14</td>\n",
       "            </tr>\n",
       "            <tr>\n",
       "                        <th id=\"T_3c09c654_2327_11ea_96e1_a683e725983blevel0_row3\" class=\"row_heading level0 row3\" >20-24</th>\n",
       "                        <td id=\"T_3c09c654_2327_11ea_96e1_a683e725983brow3_col0\" class=\"data row3 col0\" >325</td>\n",
       "                        <td id=\"T_3c09c654_2327_11ea_96e1_a683e725983brow3_col1\" class=\"data row3 col1\" >$3.02</td>\n",
       "                        <td id=\"T_3c09c654_2327_11ea_96e1_a683e725983brow3_col2\" class=\"data row3 col2\" >$981.64</td>\n",
       "                        <td id=\"T_3c09c654_2327_11ea_96e1_a683e725983brow3_col3\" class=\"data row3 col3\" >$4.23</td>\n",
       "            </tr>\n",
       "            <tr>\n",
       "                        <th id=\"T_3c09c654_2327_11ea_96e1_a683e725983blevel0_row4\" class=\"row_heading level0 row4\" >25-29</th>\n",
       "                        <td id=\"T_3c09c654_2327_11ea_96e1_a683e725983brow4_col0\" class=\"data row4 col0\" >77</td>\n",
       "                        <td id=\"T_3c09c654_2327_11ea_96e1_a683e725983brow4_col1\" class=\"data row4 col1\" >$2.88</td>\n",
       "                        <td id=\"T_3c09c654_2327_11ea_96e1_a683e725983brow4_col2\" class=\"data row4 col2\" >$221.42</td>\n",
       "                        <td id=\"T_3c09c654_2327_11ea_96e1_a683e725983brow4_col3\" class=\"data row4 col3\" >$3.75</td>\n",
       "            </tr>\n",
       "            <tr>\n",
       "                        <th id=\"T_3c09c654_2327_11ea_96e1_a683e725983blevel0_row5\" class=\"row_heading level0 row5\" >30-34</th>\n",
       "                        <td id=\"T_3c09c654_2327_11ea_96e1_a683e725983brow5_col0\" class=\"data row5 col0\" >52</td>\n",
       "                        <td id=\"T_3c09c654_2327_11ea_96e1_a683e725983brow5_col1\" class=\"data row5 col1\" >$2.99</td>\n",
       "                        <td id=\"T_3c09c654_2327_11ea_96e1_a683e725983brow5_col2\" class=\"data row5 col2\" >$155.71</td>\n",
       "                        <td id=\"T_3c09c654_2327_11ea_96e1_a683e725983brow5_col3\" class=\"data row5 col3\" >$4.21</td>\n",
       "            </tr>\n",
       "            <tr>\n",
       "                        <th id=\"T_3c09c654_2327_11ea_96e1_a683e725983blevel0_row6\" class=\"row_heading level0 row6\" >35-39</th>\n",
       "                        <td id=\"T_3c09c654_2327_11ea_96e1_a683e725983brow6_col0\" class=\"data row6 col0\" >33</td>\n",
       "                        <td id=\"T_3c09c654_2327_11ea_96e1_a683e725983brow6_col1\" class=\"data row6 col1\" >$3.40</td>\n",
       "                        <td id=\"T_3c09c654_2327_11ea_96e1_a683e725983brow6_col2\" class=\"data row6 col2\" >$112.35</td>\n",
       "                        <td id=\"T_3c09c654_2327_11ea_96e1_a683e725983brow6_col3\" class=\"data row6 col3\" >$4.32</td>\n",
       "            </tr>\n",
       "            <tr>\n",
       "                        <th id=\"T_3c09c654_2327_11ea_96e1_a683e725983blevel0_row7\" class=\"row_heading level0 row7\" >40+</th>\n",
       "                        <td id=\"T_3c09c654_2327_11ea_96e1_a683e725983brow7_col0\" class=\"data row7 col0\" >7</td>\n",
       "                        <td id=\"T_3c09c654_2327_11ea_96e1_a683e725983brow7_col1\" class=\"data row7 col1\" >$3.08</td>\n",
       "                        <td id=\"T_3c09c654_2327_11ea_96e1_a683e725983brow7_col2\" class=\"data row7 col2\" >$21.53</td>\n",
       "                        <td id=\"T_3c09c654_2327_11ea_96e1_a683e725983brow7_col3\" class=\"data row7 col3\" >$3.08</td>\n",
       "            </tr>\n",
       "    </tbody></table>"
      ],
      "text/plain": [
       "<pandas.io.formats.style.Styler at 0x12488a150>"
      ]
     },
     "execution_count": 10,
     "metadata": {},
     "output_type": "execute_result"
    }
   ],
   "source": [
    "purchase_count_age = age_group_data[\"Item ID\"].count()\n",
    "age_price_average = age_group_data[\"Price\"].mean()\n",
    "age_total_spent = age_group_data[\"Price\"].sum()\n",
    "age_spent_per_person = age_total_spent/total_count_age\n",
    "\n",
    "age_analysis_df = pd.DataFrame ({\n",
    "    \"Purchase Count\": purchase_count_age,\n",
    "    \"Average Purchase Price\": age_price_average,\n",
    "    \"Total Spent by Age Group\": age_total_spent,\n",
    "    \"Per Person Spending\": age_spent_per_person })\n",
    "age_analysis_df.style.format({\"Average Purchase Price\":\"${:,.2f}\",\n",
    "                               \"Total Spent by Age Group\":\"${:,.2f}\",\n",
    "                               \"Per Person Spending\":\"${:,.2f}\"})\n"
   ]
  },
  {
   "cell_type": "markdown",
   "metadata": {},
   "source": [
    "## Top Spenders"
   ]
  },
  {
   "cell_type": "markdown",
   "metadata": {},
   "source": [
    "* Run basic calculations to obtain the results in the table below\n",
    "\n",
    "\n",
    "* Create a summary data frame to hold the results\n",
    "\n",
    "\n",
    "* Sort the total purchase value column in descending order\n",
    "\n",
    "\n",
    "* Optional: give the displayed data cleaner formatting\n",
    "\n",
    "\n",
    "* Display a preview of the summary data frame\n",
    "\n"
   ]
  },
  {
   "cell_type": "code",
   "execution_count": 19,
   "metadata": {},
   "outputs": [
    {
     "data": {
      "text/html": [
       "<style  type=\"text/css\" >\n",
       "</style><table id=\"T_d6b81200_2327_11ea_96e1_a683e725983b\" ><thead>    <tr>        <th class=\"blank level0\" ></th>        <th class=\"col_heading level0 col0\" >Purchase Count</th>        <th class=\"col_heading level0 col1\" >Average Purchase Price</th>        <th class=\"col_heading level0 col2\" >Total Purchase Value</th>    </tr>    <tr>        <th class=\"index_name level0\" >SN</th>        <th class=\"blank\" ></th>        <th class=\"blank\" ></th>        <th class=\"blank\" ></th>    </tr></thead><tbody>\n",
       "                <tr>\n",
       "                        <th id=\"T_d6b81200_2327_11ea_96e1_a683e725983blevel0_row0\" class=\"row_heading level0 row0\" >Lisosia93</th>\n",
       "                        <td id=\"T_d6b81200_2327_11ea_96e1_a683e725983brow0_col0\" class=\"data row0 col0\" >5</td>\n",
       "                        <td id=\"T_d6b81200_2327_11ea_96e1_a683e725983brow0_col1\" class=\"data row0 col1\" >$3.79</td>\n",
       "                        <td id=\"T_d6b81200_2327_11ea_96e1_a683e725983brow0_col2\" class=\"data row0 col2\" >$18.96</td>\n",
       "            </tr>\n",
       "            <tr>\n",
       "                        <th id=\"T_d6b81200_2327_11ea_96e1_a683e725983blevel0_row1\" class=\"row_heading level0 row1\" >Idastidru52</th>\n",
       "                        <td id=\"T_d6b81200_2327_11ea_96e1_a683e725983brow1_col0\" class=\"data row1 col0\" >4</td>\n",
       "                        <td id=\"T_d6b81200_2327_11ea_96e1_a683e725983brow1_col1\" class=\"data row1 col1\" >$3.86</td>\n",
       "                        <td id=\"T_d6b81200_2327_11ea_96e1_a683e725983brow1_col2\" class=\"data row1 col2\" >$15.45</td>\n",
       "            </tr>\n",
       "            <tr>\n",
       "                        <th id=\"T_d6b81200_2327_11ea_96e1_a683e725983blevel0_row2\" class=\"row_heading level0 row2\" >Chamjask73</th>\n",
       "                        <td id=\"T_d6b81200_2327_11ea_96e1_a683e725983brow2_col0\" class=\"data row2 col0\" >3</td>\n",
       "                        <td id=\"T_d6b81200_2327_11ea_96e1_a683e725983brow2_col1\" class=\"data row2 col1\" >$4.61</td>\n",
       "                        <td id=\"T_d6b81200_2327_11ea_96e1_a683e725983brow2_col2\" class=\"data row2 col2\" >$13.83</td>\n",
       "            </tr>\n",
       "            <tr>\n",
       "                        <th id=\"T_d6b81200_2327_11ea_96e1_a683e725983blevel0_row3\" class=\"row_heading level0 row3\" >Iral74</th>\n",
       "                        <td id=\"T_d6b81200_2327_11ea_96e1_a683e725983brow3_col0\" class=\"data row3 col0\" >4</td>\n",
       "                        <td id=\"T_d6b81200_2327_11ea_96e1_a683e725983brow3_col1\" class=\"data row3 col1\" >$3.40</td>\n",
       "                        <td id=\"T_d6b81200_2327_11ea_96e1_a683e725983brow3_col2\" class=\"data row3 col2\" >$13.62</td>\n",
       "            </tr>\n",
       "            <tr>\n",
       "                        <th id=\"T_d6b81200_2327_11ea_96e1_a683e725983blevel0_row4\" class=\"row_heading level0 row4\" >Iskadarya95</th>\n",
       "                        <td id=\"T_d6b81200_2327_11ea_96e1_a683e725983brow4_col0\" class=\"data row4 col0\" >3</td>\n",
       "                        <td id=\"T_d6b81200_2327_11ea_96e1_a683e725983brow4_col1\" class=\"data row4 col1\" >$4.37</td>\n",
       "                        <td id=\"T_d6b81200_2327_11ea_96e1_a683e725983brow4_col2\" class=\"data row4 col2\" >$13.10</td>\n",
       "            </tr>\n",
       "    </tbody></table>"
      ],
      "text/plain": [
       "<pandas.io.formats.style.Styler at 0x1247a9c90>"
      ]
     },
     "execution_count": 19,
     "metadata": {},
     "output_type": "execute_result"
    }
   ],
   "source": [
    "top_spenders = purchase_data.groupby(\"SN\")\n",
    "\n",
    "purchase_count_spender = top_spenders[\"Purchase ID\"].count()\n",
    "\n",
    "\n",
    "\n",
    "avg_purchase_price_spender = top_spenders[\"Price\"].mean()\n",
    "\n",
    "\n",
    "purchase_total_spender = top_spenders[\"Price\"].sum()\n",
    "\n",
    "purchase_total_spender\n",
    "\n",
    "\n",
    "spending_df = pd.DataFrame({\"Purchase Count\": purchase_count_spender,\n",
    "                             \"Average Purchase Price\": avg_purchase_price_spender,\n",
    "                             \"Total Purchase Value\":purchase_total_spender})\n",
    "\n",
    "\n",
    "format_spending = spending_df.sort_values([\"Total Purchase Value\"], ascending=False).head()\n",
    "\n",
    "# Format with currency style\n",
    "format_spending.style.format({\"Average Purchase Total\":\"${:,.2f}\",\n",
    "                                 \"Average Purchase Price\":\"${:,.2f}\", \n",
    "                                 \"Total Purchase Value\":\"${:,.2f}\"})\n"
   ]
  },
  {
   "cell_type": "markdown",
   "metadata": {},
   "source": [
    "## Most Popular Items"
   ]
  },
  {
   "cell_type": "markdown",
   "metadata": {},
   "source": [
    "* Retrieve the Item ID, Item Name, and Item Price columns\n",
    "\n",
    "\n",
    "* Group by Item ID and Item Name. Perform calculations to obtain purchase count, item price, and total purchase value\n",
    "\n",
    "\n",
    "* Create a summary data frame to hold the results\n",
    "\n",
    "\n",
    "* Sort the purchase count column in descending order\n",
    "\n",
    "\n",
    "* Optional: give the displayed data cleaner formatting\n",
    "\n",
    "\n",
    "* Display a preview of the summary data frame\n",
    "\n"
   ]
  },
  {
   "cell_type": "code",
   "execution_count": 25,
   "metadata": {},
   "outputs": [
    {
     "data": {
      "text/html": [
       "<style  type=\"text/css\" >\n",
       "</style><table id=\"T_a18e5af2_2328_11ea_96e1_a683e725983b\" ><thead>    <tr>        <th class=\"blank\" ></th>        <th class=\"blank level0\" ></th>        <th class=\"col_heading level0 col0\" >Purchase Count</th>        <th class=\"col_heading level0 col1\" >Item Price</th>        <th class=\"col_heading level0 col2\" >Total Purchase Value</th>    </tr>    <tr>        <th class=\"index_name level0\" >Item ID</th>        <th class=\"index_name level1\" >Item Name</th>        <th class=\"blank\" ></th>        <th class=\"blank\" ></th>        <th class=\"blank\" ></th>    </tr></thead><tbody>\n",
       "                <tr>\n",
       "                        <th id=\"T_a18e5af2_2328_11ea_96e1_a683e725983blevel0_row0\" class=\"row_heading level0 row0\" >178</th>\n",
       "                        <th id=\"T_a18e5af2_2328_11ea_96e1_a683e725983blevel1_row0\" class=\"row_heading level1 row0\" >Oathbreaker, Last Hope of the Breaking Storm</th>\n",
       "                        <td id=\"T_a18e5af2_2328_11ea_96e1_a683e725983brow0_col0\" class=\"data row0 col0\" >12</td>\n",
       "                        <td id=\"T_a18e5af2_2328_11ea_96e1_a683e725983brow0_col1\" class=\"data row0 col1\" >$4.23</td>\n",
       "                        <td id=\"T_a18e5af2_2328_11ea_96e1_a683e725983brow0_col2\" class=\"data row0 col2\" >$50.76</td>\n",
       "            </tr>\n",
       "            <tr>\n",
       "                        <th id=\"T_a18e5af2_2328_11ea_96e1_a683e725983blevel0_row1\" class=\"row_heading level0 row1\" >145</th>\n",
       "                        <th id=\"T_a18e5af2_2328_11ea_96e1_a683e725983blevel1_row1\" class=\"row_heading level1 row1\" >Fiery Glass Crusader</th>\n",
       "                        <td id=\"T_a18e5af2_2328_11ea_96e1_a683e725983brow1_col0\" class=\"data row1 col0\" >9</td>\n",
       "                        <td id=\"T_a18e5af2_2328_11ea_96e1_a683e725983brow1_col1\" class=\"data row1 col1\" >$4.58</td>\n",
       "                        <td id=\"T_a18e5af2_2328_11ea_96e1_a683e725983brow1_col2\" class=\"data row1 col2\" >$41.22</td>\n",
       "            </tr>\n",
       "            <tr>\n",
       "                        <th id=\"T_a18e5af2_2328_11ea_96e1_a683e725983blevel0_row2\" class=\"row_heading level0 row2\" >108</th>\n",
       "                        <th id=\"T_a18e5af2_2328_11ea_96e1_a683e725983blevel1_row2\" class=\"row_heading level1 row2\" >Extraction, Quickblade Of Trembling Hands</th>\n",
       "                        <td id=\"T_a18e5af2_2328_11ea_96e1_a683e725983brow2_col0\" class=\"data row2 col0\" >9</td>\n",
       "                        <td id=\"T_a18e5af2_2328_11ea_96e1_a683e725983brow2_col1\" class=\"data row2 col1\" >$3.53</td>\n",
       "                        <td id=\"T_a18e5af2_2328_11ea_96e1_a683e725983brow2_col2\" class=\"data row2 col2\" >$31.77</td>\n",
       "            </tr>\n",
       "            <tr>\n",
       "                        <th id=\"T_a18e5af2_2328_11ea_96e1_a683e725983blevel0_row3\" class=\"row_heading level0 row3\" >82</th>\n",
       "                        <th id=\"T_a18e5af2_2328_11ea_96e1_a683e725983blevel1_row3\" class=\"row_heading level1 row3\" >Nirvana</th>\n",
       "                        <td id=\"T_a18e5af2_2328_11ea_96e1_a683e725983brow3_col0\" class=\"data row3 col0\" >9</td>\n",
       "                        <td id=\"T_a18e5af2_2328_11ea_96e1_a683e725983brow3_col1\" class=\"data row3 col1\" >$4.90</td>\n",
       "                        <td id=\"T_a18e5af2_2328_11ea_96e1_a683e725983brow3_col2\" class=\"data row3 col2\" >$44.10</td>\n",
       "            </tr>\n",
       "            <tr>\n",
       "                        <th id=\"T_a18e5af2_2328_11ea_96e1_a683e725983blevel0_row4\" class=\"row_heading level0 row4\" >19</th>\n",
       "                        <th id=\"T_a18e5af2_2328_11ea_96e1_a683e725983blevel1_row4\" class=\"row_heading level1 row4\" >Pursuit, Cudgel of Necromancy</th>\n",
       "                        <td id=\"T_a18e5af2_2328_11ea_96e1_a683e725983brow4_col0\" class=\"data row4 col0\" >8</td>\n",
       "                        <td id=\"T_a18e5af2_2328_11ea_96e1_a683e725983brow4_col1\" class=\"data row4 col1\" >$1.02</td>\n",
       "                        <td id=\"T_a18e5af2_2328_11ea_96e1_a683e725983brow4_col2\" class=\"data row4 col2\" >$8.16</td>\n",
       "            </tr>\n",
       "    </tbody></table>"
      ],
      "text/plain": [
       "<pandas.io.formats.style.Styler at 0x122b73310>"
      ]
     },
     "execution_count": 25,
     "metadata": {},
     "output_type": "execute_result"
    }
   ],
   "source": [
    "# Create new data frame with items related information \n",
    "items = purchase_data[[\"Item ID\", \"Item Name\", \"Price\"]]\n",
    "\n",
    "# Group the item data by item id and item name \n",
    "item_stats = items.groupby([\"Item ID\",\"Item Name\"])\n",
    "\n",
    "# Count the number of times an item has been purchased \n",
    "purchase_count_item = item_stats[\"Price\"].count()\n",
    "\n",
    "# Calcualte the purchase value per item \n",
    "purchase_value = (item_stats[\"Price\"].sum()) \n",
    "\n",
    "# Find individual item price\n",
    "item_price = purchase_value/purchase_count_item\n",
    "\n",
    "# Create data frame with obtained values\n",
    "most_popular_items = pd.DataFrame({\"Purchase Count\": purchase_count_item, \n",
    "                                   \"Item Price\": item_price,\n",
    "                                   \"Total Purchase Value\":purchase_value})\n",
    "\n",
    "# Sort in descending order to obtain top spender names and provide top 5 item names\n",
    "popular_formatted = most_popular_items.sort_values([\"Purchase Count\"], ascending=False).head()\n",
    "\n",
    "# Format with currency style\n",
    "popular_formatted.style.format({\"Item Price\":\"${:,.2f}\",\n",
    "                                \"Total Purchase Value\":\"${:,.2f}\"})"
   ]
  },
  {
   "cell_type": "markdown",
   "metadata": {},
   "source": [
    "## Most Profitable Items"
   ]
  },
  {
   "cell_type": "markdown",
   "metadata": {},
   "source": [
    "* Sort the above table by total purchase value in descending order\n",
    "\n",
    "\n",
    "* Optional: give the displayed data cleaner formatting\n",
    "\n",
    "\n",
    "* Display a preview of the data frame\n",
    "\n"
   ]
  },
  {
   "cell_type": "code",
   "execution_count": 31,
   "metadata": {
    "scrolled": true
   },
   "outputs": [
    {
     "data": {
      "text/html": [
       "<style  type=\"text/css\" >\n",
       "</style><table id=\"T_b04093ae_2395_11ea_96e1_a683e725983b\" ><thead>    <tr>        <th class=\"blank\" ></th>        <th class=\"blank level0\" ></th>        <th class=\"col_heading level0 col0\" >Purchase Count</th>        <th class=\"col_heading level0 col1\" >Item Price</th>        <th class=\"col_heading level0 col2\" >Total Purchase Value</th>    </tr>    <tr>        <th class=\"index_name level0\" >Item ID</th>        <th class=\"index_name level1\" >Item Name</th>        <th class=\"blank\" ></th>        <th class=\"blank\" ></th>        <th class=\"blank\" ></th>    </tr></thead><tbody>\n",
       "                <tr>\n",
       "                        <th id=\"T_b04093ae_2395_11ea_96e1_a683e725983blevel0_row0\" class=\"row_heading level0 row0\" >178</th>\n",
       "                        <th id=\"T_b04093ae_2395_11ea_96e1_a683e725983blevel1_row0\" class=\"row_heading level1 row0\" >Oathbreaker, Last Hope of the Breaking Storm</th>\n",
       "                        <td id=\"T_b04093ae_2395_11ea_96e1_a683e725983brow0_col0\" class=\"data row0 col0\" >12</td>\n",
       "                        <td id=\"T_b04093ae_2395_11ea_96e1_a683e725983brow0_col1\" class=\"data row0 col1\" >$4.23</td>\n",
       "                        <td id=\"T_b04093ae_2395_11ea_96e1_a683e725983brow0_col2\" class=\"data row0 col2\" >$50.76</td>\n",
       "            </tr>\n",
       "            <tr>\n",
       "                        <th id=\"T_b04093ae_2395_11ea_96e1_a683e725983blevel0_row1\" class=\"row_heading level0 row1\" >82</th>\n",
       "                        <th id=\"T_b04093ae_2395_11ea_96e1_a683e725983blevel1_row1\" class=\"row_heading level1 row1\" >Nirvana</th>\n",
       "                        <td id=\"T_b04093ae_2395_11ea_96e1_a683e725983brow1_col0\" class=\"data row1 col0\" >9</td>\n",
       "                        <td id=\"T_b04093ae_2395_11ea_96e1_a683e725983brow1_col1\" class=\"data row1 col1\" >$4.90</td>\n",
       "                        <td id=\"T_b04093ae_2395_11ea_96e1_a683e725983brow1_col2\" class=\"data row1 col2\" >$44.10</td>\n",
       "            </tr>\n",
       "            <tr>\n",
       "                        <th id=\"T_b04093ae_2395_11ea_96e1_a683e725983blevel0_row2\" class=\"row_heading level0 row2\" >145</th>\n",
       "                        <th id=\"T_b04093ae_2395_11ea_96e1_a683e725983blevel1_row2\" class=\"row_heading level1 row2\" >Fiery Glass Crusader</th>\n",
       "                        <td id=\"T_b04093ae_2395_11ea_96e1_a683e725983brow2_col0\" class=\"data row2 col0\" >9</td>\n",
       "                        <td id=\"T_b04093ae_2395_11ea_96e1_a683e725983brow2_col1\" class=\"data row2 col1\" >$4.58</td>\n",
       "                        <td id=\"T_b04093ae_2395_11ea_96e1_a683e725983brow2_col2\" class=\"data row2 col2\" >$41.22</td>\n",
       "            </tr>\n",
       "            <tr>\n",
       "                        <th id=\"T_b04093ae_2395_11ea_96e1_a683e725983blevel0_row3\" class=\"row_heading level0 row3\" >92</th>\n",
       "                        <th id=\"T_b04093ae_2395_11ea_96e1_a683e725983blevel1_row3\" class=\"row_heading level1 row3\" >Final Critic</th>\n",
       "                        <td id=\"T_b04093ae_2395_11ea_96e1_a683e725983brow3_col0\" class=\"data row3 col0\" >8</td>\n",
       "                        <td id=\"T_b04093ae_2395_11ea_96e1_a683e725983brow3_col1\" class=\"data row3 col1\" >$4.88</td>\n",
       "                        <td id=\"T_b04093ae_2395_11ea_96e1_a683e725983brow3_col2\" class=\"data row3 col2\" >$39.04</td>\n",
       "            </tr>\n",
       "            <tr>\n",
       "                        <th id=\"T_b04093ae_2395_11ea_96e1_a683e725983blevel0_row4\" class=\"row_heading level0 row4\" >103</th>\n",
       "                        <th id=\"T_b04093ae_2395_11ea_96e1_a683e725983blevel1_row4\" class=\"row_heading level1 row4\" >Singed Scalpel</th>\n",
       "                        <td id=\"T_b04093ae_2395_11ea_96e1_a683e725983brow4_col0\" class=\"data row4 col0\" >8</td>\n",
       "                        <td id=\"T_b04093ae_2395_11ea_96e1_a683e725983brow4_col1\" class=\"data row4 col1\" >$4.35</td>\n",
       "                        <td id=\"T_b04093ae_2395_11ea_96e1_a683e725983brow4_col2\" class=\"data row4 col2\" >$34.80</td>\n",
       "            </tr>\n",
       "    </tbody></table>"
      ],
      "text/plain": [
       "<pandas.io.formats.style.Styler at 0x12518d9d0>"
      ]
     },
     "execution_count": 31,
     "metadata": {},
     "output_type": "execute_result"
    }
   ],
   "source": [
    "\n",
    "popular_formatted = most_popular_items.sort_values([\"Total Purchase Value\"],\n",
    "                                                   ascending=False).head()\n",
    "# Format with currency style\n",
    "popular_formatted.style.format({\"Item Price\":\"${:,.2f}\",\n",
    "                                \"Total Purchase Value\":\"${:,.2f}\"})"
   ]
  },
  {
   "cell_type": "code",
   "execution_count": null,
   "metadata": {},
   "outputs": [],
   "source": []
  }
 ],
 "metadata": {
  "anaconda-cloud": {},
  "kernel_info": {
   "name": "python3"
  },
  "kernelspec": {
   "display_name": "Python 3",
   "language": "python",
   "name": "python3"
  },
  "language_info": {
   "codemirror_mode": {
    "name": "ipython",
    "version": 3
   },
   "file_extension": ".py",
   "mimetype": "text/x-python",
   "name": "python",
   "nbconvert_exporter": "python",
   "pygments_lexer": "ipython3",
   "version": "3.7.4"
  },
  "latex_envs": {
   "LaTeX_envs_menu_present": true,
   "autoclose": false,
   "autocomplete": true,
   "bibliofile": "biblio.bib",
   "cite_by": "apalike",
   "current_citInitial": 1,
   "eqLabelWithNumbers": true,
   "eqNumInitial": 1,
   "hotkeys": {
    "equation": "Ctrl-E",
    "itemize": "Ctrl-I"
   },
   "labels_anchors": false,
   "latex_user_defs": false,
   "report_style_numbering": false,
   "user_envs_cfg": false
  },
  "nteract": {
   "version": "0.2.0"
  }
 },
 "nbformat": 4,
 "nbformat_minor": 2
}
